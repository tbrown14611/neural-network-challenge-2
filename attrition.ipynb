{
  "cells": [
    {
      "cell_type": "markdown",
      "metadata": {
        "id": "alIIEHibGc3M"
      },
      "source": [
        "## Part 1: Preprocessing"
      ]
    },
    {
      "cell_type": "code",
      "execution_count": 1,
      "metadata": {
        "colab": {
          "base_uri": "https://localhost:8080/",
          "height": 325
        },
        "id": "6eDUJ4NtGc3P",
        "outputId": "2480098c-135c-4cbf-9552-018494ee8ff5"
      },
      "outputs": [
        {
          "data": {
            "text/html": [
              "<div>\n",
              "<style scoped>\n",
              "    .dataframe tbody tr th:only-of-type {\n",
              "        vertical-align: middle;\n",
              "    }\n",
              "\n",
              "    .dataframe tbody tr th {\n",
              "        vertical-align: top;\n",
              "    }\n",
              "\n",
              "    .dataframe thead th {\n",
              "        text-align: right;\n",
              "    }\n",
              "</style>\n",
              "<table border=\"1\" class=\"dataframe\">\n",
              "  <thead>\n",
              "    <tr style=\"text-align: right;\">\n",
              "      <th></th>\n",
              "      <th>Age</th>\n",
              "      <th>Attrition</th>\n",
              "      <th>BusinessTravel</th>\n",
              "      <th>Department</th>\n",
              "      <th>DistanceFromHome</th>\n",
              "      <th>Education</th>\n",
              "      <th>EducationField</th>\n",
              "      <th>EnvironmentSatisfaction</th>\n",
              "      <th>HourlyRate</th>\n",
              "      <th>JobInvolvement</th>\n",
              "      <th>...</th>\n",
              "      <th>PerformanceRating</th>\n",
              "      <th>RelationshipSatisfaction</th>\n",
              "      <th>StockOptionLevel</th>\n",
              "      <th>TotalWorkingYears</th>\n",
              "      <th>TrainingTimesLastYear</th>\n",
              "      <th>WorkLifeBalance</th>\n",
              "      <th>YearsAtCompany</th>\n",
              "      <th>YearsInCurrentRole</th>\n",
              "      <th>YearsSinceLastPromotion</th>\n",
              "      <th>YearsWithCurrManager</th>\n",
              "    </tr>\n",
              "  </thead>\n",
              "  <tbody>\n",
              "    <tr>\n",
              "      <th>0</th>\n",
              "      <td>41</td>\n",
              "      <td>Yes</td>\n",
              "      <td>Travel_Rarely</td>\n",
              "      <td>Sales</td>\n",
              "      <td>1</td>\n",
              "      <td>2</td>\n",
              "      <td>Life Sciences</td>\n",
              "      <td>2</td>\n",
              "      <td>94</td>\n",
              "      <td>3</td>\n",
              "      <td>...</td>\n",
              "      <td>3</td>\n",
              "      <td>1</td>\n",
              "      <td>0</td>\n",
              "      <td>8</td>\n",
              "      <td>0</td>\n",
              "      <td>1</td>\n",
              "      <td>6</td>\n",
              "      <td>4</td>\n",
              "      <td>0</td>\n",
              "      <td>5</td>\n",
              "    </tr>\n",
              "    <tr>\n",
              "      <th>1</th>\n",
              "      <td>49</td>\n",
              "      <td>No</td>\n",
              "      <td>Travel_Frequently</td>\n",
              "      <td>Research &amp; Development</td>\n",
              "      <td>8</td>\n",
              "      <td>1</td>\n",
              "      <td>Life Sciences</td>\n",
              "      <td>3</td>\n",
              "      <td>61</td>\n",
              "      <td>2</td>\n",
              "      <td>...</td>\n",
              "      <td>4</td>\n",
              "      <td>4</td>\n",
              "      <td>1</td>\n",
              "      <td>10</td>\n",
              "      <td>3</td>\n",
              "      <td>3</td>\n",
              "      <td>10</td>\n",
              "      <td>7</td>\n",
              "      <td>1</td>\n",
              "      <td>7</td>\n",
              "    </tr>\n",
              "    <tr>\n",
              "      <th>2</th>\n",
              "      <td>37</td>\n",
              "      <td>Yes</td>\n",
              "      <td>Travel_Rarely</td>\n",
              "      <td>Research &amp; Development</td>\n",
              "      <td>2</td>\n",
              "      <td>2</td>\n",
              "      <td>Other</td>\n",
              "      <td>4</td>\n",
              "      <td>92</td>\n",
              "      <td>2</td>\n",
              "      <td>...</td>\n",
              "      <td>3</td>\n",
              "      <td>2</td>\n",
              "      <td>0</td>\n",
              "      <td>7</td>\n",
              "      <td>3</td>\n",
              "      <td>3</td>\n",
              "      <td>0</td>\n",
              "      <td>0</td>\n",
              "      <td>0</td>\n",
              "      <td>0</td>\n",
              "    </tr>\n",
              "    <tr>\n",
              "      <th>3</th>\n",
              "      <td>33</td>\n",
              "      <td>No</td>\n",
              "      <td>Travel_Frequently</td>\n",
              "      <td>Research &amp; Development</td>\n",
              "      <td>3</td>\n",
              "      <td>4</td>\n",
              "      <td>Life Sciences</td>\n",
              "      <td>4</td>\n",
              "      <td>56</td>\n",
              "      <td>3</td>\n",
              "      <td>...</td>\n",
              "      <td>3</td>\n",
              "      <td>3</td>\n",
              "      <td>0</td>\n",
              "      <td>8</td>\n",
              "      <td>3</td>\n",
              "      <td>3</td>\n",
              "      <td>8</td>\n",
              "      <td>7</td>\n",
              "      <td>3</td>\n",
              "      <td>0</td>\n",
              "    </tr>\n",
              "    <tr>\n",
              "      <th>4</th>\n",
              "      <td>27</td>\n",
              "      <td>No</td>\n",
              "      <td>Travel_Rarely</td>\n",
              "      <td>Research &amp; Development</td>\n",
              "      <td>2</td>\n",
              "      <td>1</td>\n",
              "      <td>Medical</td>\n",
              "      <td>1</td>\n",
              "      <td>40</td>\n",
              "      <td>3</td>\n",
              "      <td>...</td>\n",
              "      <td>3</td>\n",
              "      <td>4</td>\n",
              "      <td>1</td>\n",
              "      <td>6</td>\n",
              "      <td>3</td>\n",
              "      <td>3</td>\n",
              "      <td>2</td>\n",
              "      <td>2</td>\n",
              "      <td>2</td>\n",
              "      <td>2</td>\n",
              "    </tr>\n",
              "  </tbody>\n",
              "</table>\n",
              "<p>5 rows × 27 columns</p>\n",
              "</div>"
            ],
            "text/plain": [
              "   Age Attrition     BusinessTravel              Department  DistanceFromHome  \\\n",
              "0   41       Yes      Travel_Rarely                   Sales                 1   \n",
              "1   49        No  Travel_Frequently  Research & Development                 8   \n",
              "2   37       Yes      Travel_Rarely  Research & Development                 2   \n",
              "3   33        No  Travel_Frequently  Research & Development                 3   \n",
              "4   27        No      Travel_Rarely  Research & Development                 2   \n",
              "\n",
              "   Education EducationField  EnvironmentSatisfaction  HourlyRate  \\\n",
              "0          2  Life Sciences                        2          94   \n",
              "1          1  Life Sciences                        3          61   \n",
              "2          2          Other                        4          92   \n",
              "3          4  Life Sciences                        4          56   \n",
              "4          1        Medical                        1          40   \n",
              "\n",
              "   JobInvolvement  ...  PerformanceRating RelationshipSatisfaction  \\\n",
              "0               3  ...                  3                        1   \n",
              "1               2  ...                  4                        4   \n",
              "2               2  ...                  3                        2   \n",
              "3               3  ...                  3                        3   \n",
              "4               3  ...                  3                        4   \n",
              "\n",
              "   StockOptionLevel TotalWorkingYears  TrainingTimesLastYear WorkLifeBalance  \\\n",
              "0                 0                 8                      0               1   \n",
              "1                 1                10                      3               3   \n",
              "2                 0                 7                      3               3   \n",
              "3                 0                 8                      3               3   \n",
              "4                 1                 6                      3               3   \n",
              "\n",
              "   YearsAtCompany  YearsInCurrentRole  YearsSinceLastPromotion  \\\n",
              "0               6                   4                        0   \n",
              "1              10                   7                        1   \n",
              "2               0                   0                        0   \n",
              "3               8                   7                        3   \n",
              "4               2                   2                        2   \n",
              "\n",
              "   YearsWithCurrManager  \n",
              "0                     5  \n",
              "1                     7  \n",
              "2                     0  \n",
              "3                     0  \n",
              "4                     2  \n",
              "\n",
              "[5 rows x 27 columns]"
            ]
          },
          "execution_count": 1,
          "metadata": {},
          "output_type": "execute_result"
        }
      ],
      "source": [
        "# Import our dependencies\n",
        "from sklearn.model_selection import train_test_split\n",
        "from sklearn.preprocessing import StandardScaler\n",
        "import pandas as pd\n",
        "import numpy as np\n",
        "import tensorflow as tf\n",
        "from tensorflow.keras.models import Model\n",
        "from tensorflow.keras import layers\n",
        "from tensorflow.keras.layers import Input, Dense\n",
        "from sklearn import preprocessing\n",
        "from sklearn.preprocessing import OneHotEncoder\n",
        "\n",
        "\n",
        "#  Import and read the attrition data\n",
        "attrition_df = pd.read_csv('https://static.bc-edx.com/ai/ail-v-1-0/m19/lms/datasets/attrition.csv')\n",
        "attrition_df.head()"
      ]
    },
    {
      "cell_type": "code",
      "execution_count": 2,
      "metadata": {
        "colab": {
          "base_uri": "https://localhost:8080/"
        },
        "id": "g22aQSY4Gc3Q",
        "outputId": "1f5c13c1-b981-4e40-a7ed-dd3fe6f1b81e"
      },
      "outputs": [
        {
          "data": {
            "text/plain": [
              "Age                         43\n",
              "Attrition                    2\n",
              "BusinessTravel               3\n",
              "Department                   3\n",
              "DistanceFromHome            29\n",
              "Education                    5\n",
              "EducationField               6\n",
              "EnvironmentSatisfaction      4\n",
              "HourlyRate                  71\n",
              "JobInvolvement               4\n",
              "JobLevel                     5\n",
              "JobRole                      9\n",
              "JobSatisfaction              4\n",
              "MaritalStatus                3\n",
              "NumCompaniesWorked          10\n",
              "OverTime                     2\n",
              "PercentSalaryHike           15\n",
              "PerformanceRating            2\n",
              "RelationshipSatisfaction     4\n",
              "StockOptionLevel             4\n",
              "TotalWorkingYears           40\n",
              "TrainingTimesLastYear        7\n",
              "WorkLifeBalance              4\n",
              "YearsAtCompany              37\n",
              "YearsInCurrentRole          19\n",
              "YearsSinceLastPromotion     16\n",
              "YearsWithCurrManager        18\n",
              "dtype: int64"
            ]
          },
          "execution_count": 2,
          "metadata": {},
          "output_type": "execute_result"
        }
      ],
      "source": [
        "# Determine the number of unique values in each column.\n",
        "attrition_df.nunique()"
      ]
    },
    {
      "cell_type": "code",
      "execution_count": 3,
      "metadata": {},
      "outputs": [
        {
          "data": {
            "text/plain": [
              "(1470, 27)"
            ]
          },
          "execution_count": 3,
          "metadata": {},
          "output_type": "execute_result"
        }
      ],
      "source": [
        "attrition_df.shape"
      ]
    },
    {
      "cell_type": "code",
      "execution_count": 4,
      "metadata": {},
      "outputs": [
        {
          "data": {
            "text/plain": [
              "Age                          int64\n",
              "Attrition                   object\n",
              "BusinessTravel              object\n",
              "Department                  object\n",
              "DistanceFromHome             int64\n",
              "Education                    int64\n",
              "EducationField              object\n",
              "EnvironmentSatisfaction      int64\n",
              "HourlyRate                   int64\n",
              "JobInvolvement               int64\n",
              "JobLevel                     int64\n",
              "JobRole                     object\n",
              "JobSatisfaction              int64\n",
              "MaritalStatus               object\n",
              "NumCompaniesWorked           int64\n",
              "OverTime                    object\n",
              "PercentSalaryHike            int64\n",
              "PerformanceRating            int64\n",
              "RelationshipSatisfaction     int64\n",
              "StockOptionLevel             int64\n",
              "TotalWorkingYears            int64\n",
              "TrainingTimesLastYear        int64\n",
              "WorkLifeBalance              int64\n",
              "YearsAtCompany               int64\n",
              "YearsInCurrentRole           int64\n",
              "YearsSinceLastPromotion      int64\n",
              "YearsWithCurrManager         int64\n",
              "dtype: object"
            ]
          },
          "execution_count": 4,
          "metadata": {},
          "output_type": "execute_result"
        }
      ],
      "source": [
        "attrition_df.dtypes\n"
      ]
    },
    {
      "cell_type": "code",
      "execution_count": 5,
      "metadata": {
        "id": "50vMgBEnJbfM"
      },
      "outputs": [
        {
          "data": {
            "text/html": [
              "<div>\n",
              "<style scoped>\n",
              "    .dataframe tbody tr th:only-of-type {\n",
              "        vertical-align: middle;\n",
              "    }\n",
              "\n",
              "    .dataframe tbody tr th {\n",
              "        vertical-align: top;\n",
              "    }\n",
              "\n",
              "    .dataframe thead th {\n",
              "        text-align: right;\n",
              "    }\n",
              "</style>\n",
              "<table border=\"1\" class=\"dataframe\">\n",
              "  <thead>\n",
              "    <tr style=\"text-align: right;\">\n",
              "      <th></th>\n",
              "      <th>Attrition</th>\n",
              "      <th>Department</th>\n",
              "    </tr>\n",
              "  </thead>\n",
              "  <tbody>\n",
              "    <tr>\n",
              "      <th>0</th>\n",
              "      <td>Yes</td>\n",
              "      <td>Sales</td>\n",
              "    </tr>\n",
              "    <tr>\n",
              "      <th>1</th>\n",
              "      <td>No</td>\n",
              "      <td>Research &amp; Development</td>\n",
              "    </tr>\n",
              "    <tr>\n",
              "      <th>2</th>\n",
              "      <td>Yes</td>\n",
              "      <td>Research &amp; Development</td>\n",
              "    </tr>\n",
              "    <tr>\n",
              "      <th>3</th>\n",
              "      <td>No</td>\n",
              "      <td>Research &amp; Development</td>\n",
              "    </tr>\n",
              "    <tr>\n",
              "      <th>4</th>\n",
              "      <td>No</td>\n",
              "      <td>Research &amp; Development</td>\n",
              "    </tr>\n",
              "    <tr>\n",
              "      <th>...</th>\n",
              "      <td>...</td>\n",
              "      <td>...</td>\n",
              "    </tr>\n",
              "    <tr>\n",
              "      <th>1465</th>\n",
              "      <td>No</td>\n",
              "      <td>Research &amp; Development</td>\n",
              "    </tr>\n",
              "    <tr>\n",
              "      <th>1466</th>\n",
              "      <td>No</td>\n",
              "      <td>Research &amp; Development</td>\n",
              "    </tr>\n",
              "    <tr>\n",
              "      <th>1467</th>\n",
              "      <td>No</td>\n",
              "      <td>Research &amp; Development</td>\n",
              "    </tr>\n",
              "    <tr>\n",
              "      <th>1468</th>\n",
              "      <td>No</td>\n",
              "      <td>Sales</td>\n",
              "    </tr>\n",
              "    <tr>\n",
              "      <th>1469</th>\n",
              "      <td>No</td>\n",
              "      <td>Research &amp; Development</td>\n",
              "    </tr>\n",
              "  </tbody>\n",
              "</table>\n",
              "<p>1470 rows × 2 columns</p>\n",
              "</div>"
            ],
            "text/plain": [
              "     Attrition              Department\n",
              "0          Yes                   Sales\n",
              "1           No  Research & Development\n",
              "2          Yes  Research & Development\n",
              "3           No  Research & Development\n",
              "4           No  Research & Development\n",
              "...        ...                     ...\n",
              "1465        No  Research & Development\n",
              "1466        No  Research & Development\n",
              "1467        No  Research & Development\n",
              "1468        No                   Sales\n",
              "1469        No  Research & Development\n",
              "\n",
              "[1470 rows x 2 columns]"
            ]
          },
          "execution_count": 5,
          "metadata": {},
          "output_type": "execute_result"
        }
      ],
      "source": [
        "# Create y_df with the Attrition and Department columns\n",
        "y_df = attrition_df[['Attrition','Department']]\n",
        "y_df"
      ]
    },
    {
      "cell_type": "code",
      "execution_count": 6,
      "metadata": {},
      "outputs": [
        {
          "name": "stderr",
          "output_type": "stream",
          "text": [
            "C:\\Users\\Thomas\\AppData\\Local\\Temp\\ipykernel_7772\\1977605203.py:2: SettingWithCopyWarning: \n",
            "A value is trying to be set on a copy of a slice from a DataFrame.\n",
            "Try using .loc[row_indexer,col_indexer] = value instead\n",
            "\n",
            "See the caveats in the documentation: https://pandas.pydata.org/pandas-docs/stable/user_guide/indexing.html#returning-a-view-versus-a-copy\n",
            "  y_df['Attrition'] = y_df.apply(lambda x : 1 if x['Attrition']=='Yes' else 0, axis=1)\n"
          ]
        }
      ],
      "source": [
        "# convert Attrition \n",
        "y_df['Attrition'] = y_df.apply(lambda x : 1 if x['Attrition']=='Yes' else 0, axis=1)"
      ]
    },
    {
      "cell_type": "code",
      "execution_count": 7,
      "metadata": {},
      "outputs": [
        {
          "data": {
            "text/plain": [
              "(1470, 2)"
            ]
          },
          "execution_count": 7,
          "metadata": {},
          "output_type": "execute_result"
        }
      ],
      "source": [
        "y_df.shape"
      ]
    },
    {
      "cell_type": "code",
      "execution_count": 8,
      "metadata": {},
      "outputs": [
        {
          "data": {
            "text/plain": [
              "Attrition      int64\n",
              "Department    object\n",
              "dtype: object"
            ]
          },
          "execution_count": 8,
          "metadata": {},
          "output_type": "execute_result"
        }
      ],
      "source": [
        "y_df.dtypes"
      ]
    },
    {
      "cell_type": "code",
      "execution_count": 9,
      "metadata": {
        "colab": {
          "base_uri": "https://localhost:8080/"
        },
        "id": "Virka0zLGc3R",
        "outputId": "dd5aee3a-9458-4ba6-e857-1b234de40915"
      },
      "outputs": [
        {
          "data": {
            "text/plain": [
              "Education                   int64\n",
              "Age                         int64\n",
              "DistanceFromHome            int64\n",
              "JobSatisfaction             int64\n",
              "OverTime                   object\n",
              "StockOptionLevel            int64\n",
              "WorkLifeBalance             int64\n",
              "YearsAtCompany              int64\n",
              "YearsSinceLastPromotion     int64\n",
              "NumCompaniesWorked          int64\n",
              "dtype: object"
            ]
          },
          "execution_count": 9,
          "metadata": {},
          "output_type": "execute_result"
        }
      ],
      "source": [
        "\n",
        "# Create a list of at least 10 column names to use as X data\n",
        "selected_columns = [\n",
        "   'Education','Age','DistanceFromHome','JobSatisfaction','OverTime','StockOptionLevel','WorkLifeBalance','YearsAtCompany','YearsSinceLastPromotion','NumCompaniesWorked'\n",
        "]\n",
        "\n",
        "# Create X_df using your selected columns\n",
        "X_df = attrition_df[selected_columns]\n",
        "\n",
        "# Show the data types for X_df\n",
        "X_df.dtypes\n"
      ]
    },
    {
      "cell_type": "code",
      "execution_count": null,
      "metadata": {},
      "outputs": [],
      "source": []
    },
    {
      "cell_type": "code",
      "execution_count": 10,
      "metadata": {},
      "outputs": [],
      "source": [
        "# Split the data into training and testing sets\n",
        "from sklearn.model_selection import train_test_split\n",
        "X_train, X_test, y_train, y_test = train_test_split(X_df, y_df, test_size=0.2, random_state=42)"
      ]
    },
    {
      "cell_type": "code",
      "execution_count": 11,
      "metadata": {},
      "outputs": [
        {
          "data": {
            "text/plain": [
              "Education                  int64\n",
              "Age                        int64\n",
              "DistanceFromHome           int64\n",
              "JobSatisfaction            int64\n",
              "OverTime                   int64\n",
              "StockOptionLevel           int64\n",
              "WorkLifeBalance            int64\n",
              "YearsAtCompany             int64\n",
              "YearsSinceLastPromotion    int64\n",
              "NumCompaniesWorked         int64\n",
              "dtype: object"
            ]
          },
          "execution_count": 11,
          "metadata": {},
          "output_type": "execute_result"
        }
      ],
      "source": [
        "# Convert your X data to numeric data types however you see fit\n",
        "# Add new code cells as necessary\n",
        "X_train['OverTime']= X_train.apply(lambda x : 1 if x['OverTime']=='Yes' else 0, axis=1)\n",
        "X_test['OverTime']= X_test.apply(lambda x : 1 if x['OverTime']=='Yes' else 0, axis=1)\n",
        "X_train.dtypes"
      ]
    },
    {
      "cell_type": "code",
      "execution_count": 12,
      "metadata": {},
      "outputs": [
        {
          "name": "stderr",
          "output_type": "stream",
          "text": [
            "c:\\Users\\Thomas\\anaconda3\\envs\\dev\\lib\\site-packages\\sklearn\\preprocessing\\_encoders.py:868: FutureWarning: `sparse` was renamed to `sparse_output` in version 1.2 and will be removed in 1.4. `sparse_output` is ignored unless you leave `sparse` to its default value.\n",
            "  warnings.warn(\n"
          ]
        },
        {
          "data": {
            "text/plain": [
              "(1176, 3)"
            ]
          },
          "execution_count": 12,
          "metadata": {},
          "output_type": "execute_result"
        }
      ],
      "source": [
        "# Create a OneHotEncoder for the Department column\n",
        "encoder = OneHotEncoder(sparse=False)\n",
        "\n",
        "# Fit the encoder to the training data\n",
        "encoder.fit(y_train[['Department']])\n",
        "\n",
        "\n",
        "# Create two new variables by applying the encoder\n",
        "# to the training and testing data\n",
        "y_train_encoded = encoder.transform(y_train[['Department']])\n",
        "y_test_encoded = encoder.transform(y_test[['Department']])\n",
        "\n",
        "y_train_encoded.shape"
      ]
    },
    {
      "cell_type": "code",
      "execution_count": 13,
      "metadata": {},
      "outputs": [
        {
          "name": "stderr",
          "output_type": "stream",
          "text": [
            "c:\\Users\\Thomas\\anaconda3\\envs\\dev\\lib\\site-packages\\sklearn\\preprocessing\\_encoders.py:868: FutureWarning: `sparse` was renamed to `sparse_output` in version 1.2 and will be removed in 1.4. `sparse_output` is ignored unless you leave `sparse` to its default value.\n",
            "  warnings.warn(\n"
          ]
        },
        {
          "data": {
            "text/plain": [
              "(1176, 2)"
            ]
          },
          "execution_count": 13,
          "metadata": {},
          "output_type": "execute_result"
        }
      ],
      "source": [
        "# Create a OneHotEncoder for the Attrition column\n",
        "attrition_encoder = OneHotEncoder(sparse=False)\n",
        "\n",
        "# Fit the encoder to the training data\n",
        "attrition_encoder.fit(y_train[['Attrition']])\n",
        "\n",
        "\n",
        "# Create two new variables by applying the encoder\n",
        "# to the training and testing data\n",
        "y_train_attrition_encoded = attrition_encoder.transform(y_train[['Attrition']])\n",
        "y_test_attrition_encoded = attrition_encoder.transform(y_test[['Attrition']])\n",
        "\n",
        "y_train_attrition_encoded.shape"
      ]
    },
    {
      "cell_type": "code",
      "execution_count": 14,
      "metadata": {},
      "outputs": [
        {
          "data": {
            "text/plain": [
              "(1470, 10)"
            ]
          },
          "execution_count": 14,
          "metadata": {},
          "output_type": "execute_result"
        }
      ],
      "source": [
        "X_df.shape"
      ]
    },
    {
      "cell_type": "code",
      "execution_count": 15,
      "metadata": {},
      "outputs": [
        {
          "data": {
            "text/html": [
              "<div>\n",
              "<style scoped>\n",
              "    .dataframe tbody tr th:only-of-type {\n",
              "        vertical-align: middle;\n",
              "    }\n",
              "\n",
              "    .dataframe tbody tr th {\n",
              "        vertical-align: top;\n",
              "    }\n",
              "\n",
              "    .dataframe thead th {\n",
              "        text-align: right;\n",
              "    }\n",
              "</style>\n",
              "<table border=\"1\" class=\"dataframe\">\n",
              "  <thead>\n",
              "    <tr style=\"text-align: right;\">\n",
              "      <th></th>\n",
              "      <th>Education</th>\n",
              "      <th>Age</th>\n",
              "      <th>DistanceFromHome</th>\n",
              "      <th>JobSatisfaction</th>\n",
              "      <th>OverTime</th>\n",
              "      <th>StockOptionLevel</th>\n",
              "      <th>WorkLifeBalance</th>\n",
              "      <th>YearsAtCompany</th>\n",
              "      <th>YearsSinceLastPromotion</th>\n",
              "      <th>NumCompaniesWorked</th>\n",
              "    </tr>\n",
              "  </thead>\n",
              "  <tbody>\n",
              "    <tr>\n",
              "      <th>1097</th>\n",
              "      <td>2</td>\n",
              "      <td>24</td>\n",
              "      <td>21</td>\n",
              "      <td>1</td>\n",
              "      <td>0</td>\n",
              "      <td>3</td>\n",
              "      <td>3</td>\n",
              "      <td>1</td>\n",
              "      <td>0</td>\n",
              "      <td>0</td>\n",
              "    </tr>\n",
              "    <tr>\n",
              "      <th>727</th>\n",
              "      <td>2</td>\n",
              "      <td>18</td>\n",
              "      <td>5</td>\n",
              "      <td>4</td>\n",
              "      <td>0</td>\n",
              "      <td>0</td>\n",
              "      <td>3</td>\n",
              "      <td>0</td>\n",
              "      <td>0</td>\n",
              "      <td>1</td>\n",
              "    </tr>\n",
              "    <tr>\n",
              "      <th>254</th>\n",
              "      <td>2</td>\n",
              "      <td>29</td>\n",
              "      <td>20</td>\n",
              "      <td>4</td>\n",
              "      <td>0</td>\n",
              "      <td>1</td>\n",
              "      <td>3</td>\n",
              "      <td>3</td>\n",
              "      <td>0</td>\n",
              "      <td>2</td>\n",
              "    </tr>\n",
              "    <tr>\n",
              "      <th>1175</th>\n",
              "      <td>3</td>\n",
              "      <td>39</td>\n",
              "      <td>12</td>\n",
              "      <td>2</td>\n",
              "      <td>0</td>\n",
              "      <td>0</td>\n",
              "      <td>3</td>\n",
              "      <td>5</td>\n",
              "      <td>1</td>\n",
              "      <td>4</td>\n",
              "    </tr>\n",
              "    <tr>\n",
              "      <th>1341</th>\n",
              "      <td>3</td>\n",
              "      <td>31</td>\n",
              "      <td>20</td>\n",
              "      <td>3</td>\n",
              "      <td>0</td>\n",
              "      <td>1</td>\n",
              "      <td>3</td>\n",
              "      <td>10</td>\n",
              "      <td>0</td>\n",
              "      <td>1</td>\n",
              "    </tr>\n",
              "    <tr>\n",
              "      <th>...</th>\n",
              "      <td>...</td>\n",
              "      <td>...</td>\n",
              "      <td>...</td>\n",
              "      <td>...</td>\n",
              "      <td>...</td>\n",
              "      <td>...</td>\n",
              "      <td>...</td>\n",
              "      <td>...</td>\n",
              "      <td>...</td>\n",
              "      <td>...</td>\n",
              "    </tr>\n",
              "    <tr>\n",
              "      <th>1130</th>\n",
              "      <td>3</td>\n",
              "      <td>35</td>\n",
              "      <td>28</td>\n",
              "      <td>3</td>\n",
              "      <td>0</td>\n",
              "      <td>2</td>\n",
              "      <td>2</td>\n",
              "      <td>10</td>\n",
              "      <td>6</td>\n",
              "      <td>1</td>\n",
              "    </tr>\n",
              "    <tr>\n",
              "      <th>1294</th>\n",
              "      <td>3</td>\n",
              "      <td>41</td>\n",
              "      <td>5</td>\n",
              "      <td>2</td>\n",
              "      <td>0</td>\n",
              "      <td>0</td>\n",
              "      <td>1</td>\n",
              "      <td>3</td>\n",
              "      <td>1</td>\n",
              "      <td>3</td>\n",
              "    </tr>\n",
              "    <tr>\n",
              "      <th>860</th>\n",
              "      <td>4</td>\n",
              "      <td>22</td>\n",
              "      <td>3</td>\n",
              "      <td>4</td>\n",
              "      <td>1</td>\n",
              "      <td>1</td>\n",
              "      <td>3</td>\n",
              "      <td>0</td>\n",
              "      <td>0</td>\n",
              "      <td>0</td>\n",
              "    </tr>\n",
              "    <tr>\n",
              "      <th>1459</th>\n",
              "      <td>2</td>\n",
              "      <td>29</td>\n",
              "      <td>13</td>\n",
              "      <td>2</td>\n",
              "      <td>1</td>\n",
              "      <td>1</td>\n",
              "      <td>3</td>\n",
              "      <td>4</td>\n",
              "      <td>0</td>\n",
              "      <td>4</td>\n",
              "    </tr>\n",
              "    <tr>\n",
              "      <th>1126</th>\n",
              "      <td>3</td>\n",
              "      <td>50</td>\n",
              "      <td>9</td>\n",
              "      <td>3</td>\n",
              "      <td>1</td>\n",
              "      <td>1</td>\n",
              "      <td>3</td>\n",
              "      <td>1</td>\n",
              "      <td>0</td>\n",
              "      <td>4</td>\n",
              "    </tr>\n",
              "  </tbody>\n",
              "</table>\n",
              "<p>1176 rows × 10 columns</p>\n",
              "</div>"
            ],
            "text/plain": [
              "      Education  Age  DistanceFromHome  JobSatisfaction  OverTime  \\\n",
              "1097          2   24                21                1         0   \n",
              "727           2   18                 5                4         0   \n",
              "254           2   29                20                4         0   \n",
              "1175          3   39                12                2         0   \n",
              "1341          3   31                20                3         0   \n",
              "...         ...  ...               ...              ...       ...   \n",
              "1130          3   35                28                3         0   \n",
              "1294          3   41                 5                2         0   \n",
              "860           4   22                 3                4         1   \n",
              "1459          2   29                13                2         1   \n",
              "1126          3   50                 9                3         1   \n",
              "\n",
              "      StockOptionLevel  WorkLifeBalance  YearsAtCompany  \\\n",
              "1097                 3                3               1   \n",
              "727                  0                3               0   \n",
              "254                  1                3               3   \n",
              "1175                 0                3               5   \n",
              "1341                 1                3              10   \n",
              "...                ...              ...             ...   \n",
              "1130                 2                2              10   \n",
              "1294                 0                1               3   \n",
              "860                  1                3               0   \n",
              "1459                 1                3               4   \n",
              "1126                 1                3               1   \n",
              "\n",
              "      YearsSinceLastPromotion  NumCompaniesWorked  \n",
              "1097                        0                   0  \n",
              "727                         0                   1  \n",
              "254                         0                   2  \n",
              "1175                        1                   4  \n",
              "1341                        0                   1  \n",
              "...                       ...                 ...  \n",
              "1130                        6                   1  \n",
              "1294                        1                   3  \n",
              "860                         0                   0  \n",
              "1459                        0                   4  \n",
              "1126                        0                   4  \n",
              "\n",
              "[1176 rows x 10 columns]"
            ]
          },
          "execution_count": 15,
          "metadata": {},
          "output_type": "execute_result"
        }
      ],
      "source": [
        "X_train"
      ]
    },
    {
      "cell_type": "code",
      "execution_count": 16,
      "metadata": {},
      "outputs": [],
      "source": [
        "# Create a StandardScaler\n",
        "scaler = StandardScaler()\n",
        "\n",
        "# Fit the StandardScaler to the training data\n",
        "scaler.fit(X_train)\n",
        "\n",
        "# Scale the training and testing data\n",
        "X_train_scaled = scaler.transform(X_train)\n",
        "X_test_scaled = scaler.transform(X_test)\n"
      ]
    },
    {
      "cell_type": "code",
      "execution_count": 17,
      "metadata": {},
      "outputs": [
        {
          "data": {
            "text/plain": [
              "(1176, 10)"
            ]
          },
          "execution_count": 17,
          "metadata": {},
          "output_type": "execute_result"
        }
      ],
      "source": [
        "X_train_scaled.shape"
      ]
    },
    {
      "cell_type": "markdown",
      "metadata": {
        "id": "ykNmu_WWGc3T"
      },
      "source": [
        "## Create, Compile, and Train the Model"
      ]
    },
    {
      "cell_type": "code",
      "execution_count": 18,
      "metadata": {
        "id": "WUptZqmSGc3T"
      },
      "outputs": [],
      "source": [
        "# Find the number of columns in the X training data\n",
        "Xshape = X_df.shape \n",
        "\n",
        "# Create the input layer\n",
        "input_layer = Input(shape=(Xshape[1],), name='input')\n",
        "\n",
        "# Create at least two shared layers\n",
        "shared1 = Dense(64, activation='relu', name='shared1')(input_layer)\n",
        "shared2 = Dense(32, activation='relu', name='shared2')(shared1)\n",
        " "
      ]
    },
    {
      "cell_type": "code",
      "execution_count": 19,
      "metadata": {
        "id": "JukjTm2yTEqd"
      },
      "outputs": [],
      "source": [
        "# Create a branch for Department\n",
        "# with a hidden layer and an output layer\n",
        "\n",
        "# Create the hidden layer\n",
        "department_hidden = Dense(16, activation='relu', name='department_hidden')(shared2)\n",
        "\n",
        "# Create the output layer\n",
        "department_output = Dense(y_train_encoded.shape[1], activation='softmax', name='department_output')(department_hidden)\n",
        "\n"
      ]
    },
    {
      "cell_type": "code",
      "execution_count": 20,
      "metadata": {
        "id": "9OqhUiOJUBkR"
      },
      "outputs": [],
      "source": [
        "# Create a branch for Attrition\n",
        "# with a hidden layer and an output layer\n",
        "\n",
        "\n",
        "# Create the hidden layer\n",
        "attrition_hidden = layers.Dense(16, activation='relu', name='attrition_hidden')(shared2)\n",
        "\n",
        "# Create the output layer\n",
        "attrition_output = layers.Dense(y_train_attrition_encoded.shape[1], activation='softmax', name='attrition_output')(attrition_hidden)\n",
        "\n"
      ]
    },
    {
      "cell_type": "code",
      "execution_count": 21,
      "metadata": {
        "colab": {
          "base_uri": "https://localhost:8080/"
        },
        "id": "twmuejdxGc3T",
        "outputId": "25096308-b68b-42e4-e4ea-ae82e97c435a"
      },
      "outputs": [
        {
          "name": "stdout",
          "output_type": "stream",
          "text": [
            "Model: \"model\"\n",
            "__________________________________________________________________________________________________\n",
            " Layer (type)                Output Shape                 Param #   Connected to                  \n",
            "==================================================================================================\n",
            " input (InputLayer)          [(None, 10)]                 0         []                            \n",
            "                                                                                                  \n",
            " shared1 (Dense)             (None, 64)                   704       ['input[0][0]']               \n",
            "                                                                                                  \n",
            " shared2 (Dense)             (None, 32)                   2080      ['shared1[0][0]']             \n",
            "                                                                                                  \n",
            " department_hidden (Dense)   (None, 16)                   528       ['shared2[0][0]']             \n",
            "                                                                                                  \n",
            " attrition_hidden (Dense)    (None, 16)                   528       ['shared2[0][0]']             \n",
            "                                                                                                  \n",
            " department_output (Dense)   (None, 3)                    51        ['department_hidden[0][0]']   \n",
            "                                                                                                  \n",
            " attrition_output (Dense)    (None, 2)                    34        ['attrition_hidden[0][0]']    \n",
            "                                                                                                  \n",
            "==================================================================================================\n",
            "Total params: 3925 (15.33 KB)\n",
            "Trainable params: 3925 (15.33 KB)\n",
            "Non-trainable params: 0 (0.00 Byte)\n",
            "__________________________________________________________________________________________________\n"
          ]
        }
      ],
      "source": [
        "# Create the model\n",
        "\n",
        "model = Model(inputs=input_layer, outputs=[department_output, attrition_output], name='model')\n",
        "\n",
        "# Compile the model\n",
        "model.compile(optimizer='adam', \n",
        "              loss={'department_output': 'categorical_crossentropy', 'attrition_output': 'categorical_crossentropy'}, \n",
        "              metrics={'department_output': 'accuracy', 'attrition_output': 'accuracy'})\n",
        "\n",
        "# Summarize the model\n",
        "model.summary()\n"
      ]
    },
    {
      "cell_type": "code",
      "execution_count": 22,
      "metadata": {
        "colab": {
          "base_uri": "https://localhost:8080/"
        },
        "id": "c8oGy0dpGc3U",
        "outputId": "cc667d43-28cf-42d4-d719-c2bc02888d30"
      },
      "outputs": [
        {
          "name": "stdout",
          "output_type": "stream",
          "text": [
            "Epoch 1/100\n",
            "37/37 [==============================] - 1s 6ms/step - loss: 1.6429 - department_output_loss: 1.0402 - attrition_output_loss: 0.6027 - department_output_accuracy: 0.3886 - attrition_output_accuracy: 0.6675 - val_loss: 1.3141 - val_department_output_loss: 0.8972 - val_attrition_output_loss: 0.4168 - val_department_output_accuracy: 0.6259 - val_attrition_output_accuracy: 0.8673\n",
            "Epoch 2/100\n",
            "37/37 [==============================] - 0s 2ms/step - loss: 1.2596 - department_output_loss: 0.8212 - attrition_output_loss: 0.4384 - department_output_accuracy: 0.6454 - attrition_output_accuracy: 0.8316 - val_loss: 1.1873 - val_department_output_loss: 0.7935 - val_attrition_output_loss: 0.3938 - val_department_output_accuracy: 0.6667 - val_attrition_output_accuracy: 0.8673\n",
            "Epoch 3/100\n",
            "37/37 [==============================] - 0s 2ms/step - loss: 1.1817 - department_output_loss: 0.7767 - attrition_output_loss: 0.4050 - department_output_accuracy: 0.6505 - attrition_output_accuracy: 0.8316 - val_loss: 1.1676 - val_department_output_loss: 0.7910 - val_attrition_output_loss: 0.3766 - val_department_output_accuracy: 0.6667 - val_attrition_output_accuracy: 0.8673\n",
            "Epoch 4/100\n",
            "37/37 [==============================] - 0s 2ms/step - loss: 1.1564 - department_output_loss: 0.7693 - attrition_output_loss: 0.3871 - department_output_accuracy: 0.6505 - attrition_output_accuracy: 0.8325 - val_loss: 1.1673 - val_department_output_loss: 0.7905 - val_attrition_output_loss: 0.3769 - val_department_output_accuracy: 0.6667 - val_attrition_output_accuracy: 0.8673\n",
            "Epoch 5/100\n",
            "37/37 [==============================] - 0s 1ms/step - loss: 1.1416 - department_output_loss: 0.7651 - attrition_output_loss: 0.3765 - department_output_accuracy: 0.6505 - attrition_output_accuracy: 0.8325 - val_loss: 1.1649 - val_department_output_loss: 0.7933 - val_attrition_output_loss: 0.3717 - val_department_output_accuracy: 0.6667 - val_attrition_output_accuracy: 0.8707\n",
            "Epoch 6/100\n",
            "37/37 [==============================] - 0s 2ms/step - loss: 1.1281 - department_output_loss: 0.7623 - attrition_output_loss: 0.3658 - department_output_accuracy: 0.6505 - attrition_output_accuracy: 0.8359 - val_loss: 1.1589 - val_department_output_loss: 0.7923 - val_attrition_output_loss: 0.3666 - val_department_output_accuracy: 0.6667 - val_attrition_output_accuracy: 0.8707\n",
            "Epoch 7/100\n",
            "37/37 [==============================] - 0s 1ms/step - loss: 1.1194 - department_output_loss: 0.7592 - attrition_output_loss: 0.3603 - department_output_accuracy: 0.6505 - attrition_output_accuracy: 0.8520 - val_loss: 1.1675 - val_department_output_loss: 0.7932 - val_attrition_output_loss: 0.3743 - val_department_output_accuracy: 0.6667 - val_attrition_output_accuracy: 0.8605\n",
            "Epoch 8/100\n",
            "37/37 [==============================] - 0s 2ms/step - loss: 1.1076 - department_output_loss: 0.7535 - attrition_output_loss: 0.3540 - department_output_accuracy: 0.6505 - attrition_output_accuracy: 0.8614 - val_loss: 1.1624 - val_department_output_loss: 0.7958 - val_attrition_output_loss: 0.3666 - val_department_output_accuracy: 0.6667 - val_attrition_output_accuracy: 0.8605\n",
            "Epoch 9/100\n",
            "37/37 [==============================] - 0s 2ms/step - loss: 1.0966 - department_output_loss: 0.7506 - attrition_output_loss: 0.3459 - department_output_accuracy: 0.6505 - attrition_output_accuracy: 0.8648 - val_loss: 1.1621 - val_department_output_loss: 0.7934 - val_attrition_output_loss: 0.3687 - val_department_output_accuracy: 0.6667 - val_attrition_output_accuracy: 0.8673\n",
            "Epoch 10/100\n",
            "37/37 [==============================] - 0s 2ms/step - loss: 1.0852 - department_output_loss: 0.7468 - attrition_output_loss: 0.3383 - department_output_accuracy: 0.6505 - attrition_output_accuracy: 0.8622 - val_loss: 1.1647 - val_department_output_loss: 0.7972 - val_attrition_output_loss: 0.3675 - val_department_output_accuracy: 0.6667 - val_attrition_output_accuracy: 0.8707\n",
            "Epoch 11/100\n",
            "37/37 [==============================] - 0s 2ms/step - loss: 1.0802 - department_output_loss: 0.7466 - attrition_output_loss: 0.3335 - department_output_accuracy: 0.6497 - attrition_output_accuracy: 0.8699 - val_loss: 1.1639 - val_department_output_loss: 0.7973 - val_attrition_output_loss: 0.3666 - val_department_output_accuracy: 0.6667 - val_attrition_output_accuracy: 0.8673\n",
            "Epoch 12/100\n",
            "37/37 [==============================] - 0s 1ms/step - loss: 1.0678 - department_output_loss: 0.7416 - attrition_output_loss: 0.3262 - department_output_accuracy: 0.6505 - attrition_output_accuracy: 0.8699 - val_loss: 1.1680 - val_department_output_loss: 0.7981 - val_attrition_output_loss: 0.3699 - val_department_output_accuracy: 0.6667 - val_attrition_output_accuracy: 0.8639\n",
            "Epoch 13/100\n",
            "37/37 [==============================] - 0s 2ms/step - loss: 1.0554 - department_output_loss: 0.7373 - attrition_output_loss: 0.3181 - department_output_accuracy: 0.6514 - attrition_output_accuracy: 0.8682 - val_loss: 1.1714 - val_department_output_loss: 0.7965 - val_attrition_output_loss: 0.3749 - val_department_output_accuracy: 0.6667 - val_attrition_output_accuracy: 0.8707\n",
            "Epoch 14/100\n",
            "37/37 [==============================] - 0s 2ms/step - loss: 1.0487 - department_output_loss: 0.7348 - attrition_output_loss: 0.3138 - department_output_accuracy: 0.6531 - attrition_output_accuracy: 0.8784 - val_loss: 1.1733 - val_department_output_loss: 0.8002 - val_attrition_output_loss: 0.3731 - val_department_output_accuracy: 0.6667 - val_attrition_output_accuracy: 0.8673\n",
            "Epoch 15/100\n",
            "37/37 [==============================] - 0s 3ms/step - loss: 1.0419 - department_output_loss: 0.7315 - attrition_output_loss: 0.3104 - department_output_accuracy: 0.6539 - attrition_output_accuracy: 0.8793 - val_loss: 1.1948 - val_department_output_loss: 0.8012 - val_attrition_output_loss: 0.3937 - val_department_output_accuracy: 0.6667 - val_attrition_output_accuracy: 0.8639\n",
            "Epoch 16/100\n",
            "37/37 [==============================] - 0s 2ms/step - loss: 1.0309 - department_output_loss: 0.7289 - attrition_output_loss: 0.3020 - department_output_accuracy: 0.6531 - attrition_output_accuracy: 0.8793 - val_loss: 1.1829 - val_department_output_loss: 0.8005 - val_attrition_output_loss: 0.3824 - val_department_output_accuracy: 0.6667 - val_attrition_output_accuracy: 0.8741\n",
            "Epoch 17/100\n",
            "37/37 [==============================] - 0s 2ms/step - loss: 1.0224 - department_output_loss: 0.7249 - attrition_output_loss: 0.2975 - department_output_accuracy: 0.6548 - attrition_output_accuracy: 0.8869 - val_loss: 1.1861 - val_department_output_loss: 0.8036 - val_attrition_output_loss: 0.3825 - val_department_output_accuracy: 0.6667 - val_attrition_output_accuracy: 0.8741\n",
            "Epoch 18/100\n",
            "37/37 [==============================] - 0s 2ms/step - loss: 1.0161 - department_output_loss: 0.7219 - attrition_output_loss: 0.2941 - department_output_accuracy: 0.6573 - attrition_output_accuracy: 0.8793 - val_loss: 1.1868 - val_department_output_loss: 0.8045 - val_attrition_output_loss: 0.3824 - val_department_output_accuracy: 0.6667 - val_attrition_output_accuracy: 0.8741\n",
            "Epoch 19/100\n",
            "37/37 [==============================] - 0s 2ms/step - loss: 1.0036 - department_output_loss: 0.7175 - attrition_output_loss: 0.2860 - department_output_accuracy: 0.6539 - attrition_output_accuracy: 0.8937 - val_loss: 1.2062 - val_department_output_loss: 0.8087 - val_attrition_output_loss: 0.3976 - val_department_output_accuracy: 0.6599 - val_attrition_output_accuracy: 0.8571\n",
            "Epoch 20/100\n",
            "37/37 [==============================] - 0s 2ms/step - loss: 1.0029 - department_output_loss: 0.7182 - attrition_output_loss: 0.2846 - department_output_accuracy: 0.6556 - attrition_output_accuracy: 0.8895 - val_loss: 1.1940 - val_department_output_loss: 0.8106 - val_attrition_output_loss: 0.3833 - val_department_output_accuracy: 0.6565 - val_attrition_output_accuracy: 0.8776\n",
            "Epoch 21/100\n",
            "37/37 [==============================] - 0s 2ms/step - loss: 0.9949 - department_output_loss: 0.7115 - attrition_output_loss: 0.2834 - department_output_accuracy: 0.6624 - attrition_output_accuracy: 0.8852 - val_loss: 1.1957 - val_department_output_loss: 0.8089 - val_attrition_output_loss: 0.3868 - val_department_output_accuracy: 0.6565 - val_attrition_output_accuracy: 0.8741\n",
            "Epoch 22/100\n",
            "37/37 [==============================] - 0s 2ms/step - loss: 0.9846 - department_output_loss: 0.7081 - attrition_output_loss: 0.2765 - department_output_accuracy: 0.6616 - attrition_output_accuracy: 0.8895 - val_loss: 1.2113 - val_department_output_loss: 0.8093 - val_attrition_output_loss: 0.4020 - val_department_output_accuracy: 0.6667 - val_attrition_output_accuracy: 0.8639\n",
            "Epoch 23/100\n",
            "37/37 [==============================] - 0s 2ms/step - loss: 0.9779 - department_output_loss: 0.7048 - attrition_output_loss: 0.2731 - department_output_accuracy: 0.6607 - attrition_output_accuracy: 0.8997 - val_loss: 1.2099 - val_department_output_loss: 0.8193 - val_attrition_output_loss: 0.3906 - val_department_output_accuracy: 0.6463 - val_attrition_output_accuracy: 0.8810\n",
            "Epoch 24/100\n",
            "37/37 [==============================] - 0s 2ms/step - loss: 0.9676 - department_output_loss: 0.7013 - attrition_output_loss: 0.2663 - department_output_accuracy: 0.6641 - attrition_output_accuracy: 0.8963 - val_loss: 1.2140 - val_department_output_loss: 0.8179 - val_attrition_output_loss: 0.3961 - val_department_output_accuracy: 0.6565 - val_attrition_output_accuracy: 0.8741\n",
            "Epoch 25/100\n",
            "37/37 [==============================] - 0s 2ms/step - loss: 0.9579 - department_output_loss: 0.6953 - attrition_output_loss: 0.2626 - department_output_accuracy: 0.6624 - attrition_output_accuracy: 0.9005 - val_loss: 1.2269 - val_department_output_loss: 0.8227 - val_attrition_output_loss: 0.4041 - val_department_output_accuracy: 0.6293 - val_attrition_output_accuracy: 0.8639\n",
            "Epoch 26/100\n",
            "37/37 [==============================] - 0s 2ms/step - loss: 0.9539 - department_output_loss: 0.6939 - attrition_output_loss: 0.2600 - department_output_accuracy: 0.6743 - attrition_output_accuracy: 0.9014 - val_loss: 1.2256 - val_department_output_loss: 0.8202 - val_attrition_output_loss: 0.4054 - val_department_output_accuracy: 0.6531 - val_attrition_output_accuracy: 0.8741\n",
            "Epoch 27/100\n",
            "37/37 [==============================] - 0s 2ms/step - loss: 0.9412 - department_output_loss: 0.6860 - attrition_output_loss: 0.2553 - department_output_accuracy: 0.6701 - attrition_output_accuracy: 0.9014 - val_loss: 1.2432 - val_department_output_loss: 0.8286 - val_attrition_output_loss: 0.4146 - val_department_output_accuracy: 0.6463 - val_attrition_output_accuracy: 0.8639\n",
            "Epoch 28/100\n",
            "37/37 [==============================] - 0s 1ms/step - loss: 0.9446 - department_output_loss: 0.6869 - attrition_output_loss: 0.2576 - department_output_accuracy: 0.6726 - attrition_output_accuracy: 0.8946 - val_loss: 1.2452 - val_department_output_loss: 0.8287 - val_attrition_output_loss: 0.4165 - val_department_output_accuracy: 0.6497 - val_attrition_output_accuracy: 0.8741\n",
            "Epoch 29/100\n",
            "37/37 [==============================] - 0s 2ms/step - loss: 0.9243 - department_output_loss: 0.6796 - attrition_output_loss: 0.2447 - department_output_accuracy: 0.6888 - attrition_output_accuracy: 0.9022 - val_loss: 1.2475 - val_department_output_loss: 0.8306 - val_attrition_output_loss: 0.4169 - val_department_output_accuracy: 0.6429 - val_attrition_output_accuracy: 0.8776\n",
            "Epoch 30/100\n",
            "37/37 [==============================] - 0s 2ms/step - loss: 0.9248 - department_output_loss: 0.6781 - attrition_output_loss: 0.2467 - department_output_accuracy: 0.6811 - attrition_output_accuracy: 0.9005 - val_loss: 1.2502 - val_department_output_loss: 0.8350 - val_attrition_output_loss: 0.4152 - val_department_output_accuracy: 0.6327 - val_attrition_output_accuracy: 0.8810\n",
            "Epoch 31/100\n",
            "37/37 [==============================] - 0s 2ms/step - loss: 0.9112 - department_output_loss: 0.6728 - attrition_output_loss: 0.2383 - department_output_accuracy: 0.6939 - attrition_output_accuracy: 0.9090 - val_loss: 1.2571 - val_department_output_loss: 0.8346 - val_attrition_output_loss: 0.4225 - val_department_output_accuracy: 0.6259 - val_attrition_output_accuracy: 0.8776\n",
            "Epoch 32/100\n",
            "37/37 [==============================] - 0s 2ms/step - loss: 0.9061 - department_output_loss: 0.6648 - attrition_output_loss: 0.2412 - department_output_accuracy: 0.7007 - attrition_output_accuracy: 0.9073 - val_loss: 1.2764 - val_department_output_loss: 0.8399 - val_attrition_output_loss: 0.4365 - val_department_output_accuracy: 0.6327 - val_attrition_output_accuracy: 0.8707\n",
            "Epoch 33/100\n",
            "37/37 [==============================] - 0s 2ms/step - loss: 0.8921 - department_output_loss: 0.6612 - attrition_output_loss: 0.2309 - department_output_accuracy: 0.6947 - attrition_output_accuracy: 0.9107 - val_loss: 1.2893 - val_department_output_loss: 0.8480 - val_attrition_output_loss: 0.4413 - val_department_output_accuracy: 0.6429 - val_attrition_output_accuracy: 0.8707\n",
            "Epoch 34/100\n",
            "37/37 [==============================] - 0s 2ms/step - loss: 0.8912 - department_output_loss: 0.6553 - attrition_output_loss: 0.2359 - department_output_accuracy: 0.7007 - attrition_output_accuracy: 0.9048 - val_loss: 1.2973 - val_department_output_loss: 0.8498 - val_attrition_output_loss: 0.4475 - val_department_output_accuracy: 0.6327 - val_attrition_output_accuracy: 0.8673\n",
            "Epoch 35/100\n",
            "37/37 [==============================] - 0s 2ms/step - loss: 0.8812 - department_output_loss: 0.6527 - attrition_output_loss: 0.2285 - department_output_accuracy: 0.7075 - attrition_output_accuracy: 0.9116 - val_loss: 1.3080 - val_department_output_loss: 0.8530 - val_attrition_output_loss: 0.4550 - val_department_output_accuracy: 0.6531 - val_attrition_output_accuracy: 0.8741\n",
            "Epoch 36/100\n",
            "37/37 [==============================] - 0s 2ms/step - loss: 0.8809 - department_output_loss: 0.6467 - attrition_output_loss: 0.2342 - department_output_accuracy: 0.7100 - attrition_output_accuracy: 0.9073 - val_loss: 1.3000 - val_department_output_loss: 0.8563 - val_attrition_output_loss: 0.4437 - val_department_output_accuracy: 0.6361 - val_attrition_output_accuracy: 0.8776\n",
            "Epoch 37/100\n",
            "37/37 [==============================] - 0s 1ms/step - loss: 0.8622 - department_output_loss: 0.6466 - attrition_output_loss: 0.2157 - department_output_accuracy: 0.7032 - attrition_output_accuracy: 0.9175 - val_loss: 1.3090 - val_department_output_loss: 0.8648 - val_attrition_output_loss: 0.4442 - val_department_output_accuracy: 0.6224 - val_attrition_output_accuracy: 0.8673\n",
            "Epoch 38/100\n",
            "37/37 [==============================] - 0s 1ms/step - loss: 0.8610 - department_output_loss: 0.6433 - attrition_output_loss: 0.2176 - department_output_accuracy: 0.7032 - attrition_output_accuracy: 0.9141 - val_loss: 1.3356 - val_department_output_loss: 0.8708 - val_attrition_output_loss: 0.4648 - val_department_output_accuracy: 0.5986 - val_attrition_output_accuracy: 0.8673\n",
            "Epoch 39/100\n",
            "37/37 [==============================] - 0s 2ms/step - loss: 0.8519 - department_output_loss: 0.6344 - attrition_output_loss: 0.2175 - department_output_accuracy: 0.7177 - attrition_output_accuracy: 0.9167 - val_loss: 1.3546 - val_department_output_loss: 0.8728 - val_attrition_output_loss: 0.4818 - val_department_output_accuracy: 0.6361 - val_attrition_output_accuracy: 0.8673\n",
            "Epoch 40/100\n",
            "37/37 [==============================] - 0s 2ms/step - loss: 0.8448 - department_output_loss: 0.6304 - attrition_output_loss: 0.2144 - department_output_accuracy: 0.7143 - attrition_output_accuracy: 0.9175 - val_loss: 1.3411 - val_department_output_loss: 0.8748 - val_attrition_output_loss: 0.4663 - val_department_output_accuracy: 0.6361 - val_attrition_output_accuracy: 0.8673\n",
            "Epoch 41/100\n",
            "37/37 [==============================] - 0s 2ms/step - loss: 0.8296 - department_output_loss: 0.6225 - attrition_output_loss: 0.2071 - department_output_accuracy: 0.7228 - attrition_output_accuracy: 0.9192 - val_loss: 1.3517 - val_department_output_loss: 0.8701 - val_attrition_output_loss: 0.4816 - val_department_output_accuracy: 0.6395 - val_attrition_output_accuracy: 0.8537\n",
            "Epoch 42/100\n",
            "37/37 [==============================] - 0s 2ms/step - loss: 0.8216 - department_output_loss: 0.6182 - attrition_output_loss: 0.2035 - department_output_accuracy: 0.7262 - attrition_output_accuracy: 0.9260 - val_loss: 1.3790 - val_department_output_loss: 0.8852 - val_attrition_output_loss: 0.4938 - val_department_output_accuracy: 0.6259 - val_attrition_output_accuracy: 0.8673\n",
            "Epoch 43/100\n",
            "37/37 [==============================] - 0s 2ms/step - loss: 0.8162 - department_output_loss: 0.6149 - attrition_output_loss: 0.2013 - department_output_accuracy: 0.7296 - attrition_output_accuracy: 0.9252 - val_loss: 1.3789 - val_department_output_loss: 0.8866 - val_attrition_output_loss: 0.4923 - val_department_output_accuracy: 0.6224 - val_attrition_output_accuracy: 0.8673\n",
            "Epoch 44/100\n",
            "37/37 [==============================] - 0s 2ms/step - loss: 0.8050 - department_output_loss: 0.6081 - attrition_output_loss: 0.1969 - department_output_accuracy: 0.7253 - attrition_output_accuracy: 0.9209 - val_loss: 1.3855 - val_department_output_loss: 0.8906 - val_attrition_output_loss: 0.4949 - val_department_output_accuracy: 0.6224 - val_attrition_output_accuracy: 0.8605\n",
            "Epoch 45/100\n",
            "37/37 [==============================] - 0s 2ms/step - loss: 0.8012 - department_output_loss: 0.6041 - attrition_output_loss: 0.1971 - department_output_accuracy: 0.7279 - attrition_output_accuracy: 0.9252 - val_loss: 1.4164 - val_department_output_loss: 0.9013 - val_attrition_output_loss: 0.5151 - val_department_output_accuracy: 0.6122 - val_attrition_output_accuracy: 0.8673\n",
            "Epoch 46/100\n",
            "37/37 [==============================] - 0s 2ms/step - loss: 0.8024 - department_output_loss: 0.6015 - attrition_output_loss: 0.2009 - department_output_accuracy: 0.7364 - attrition_output_accuracy: 0.9158 - val_loss: 1.4173 - val_department_output_loss: 0.9077 - val_attrition_output_loss: 0.5096 - val_department_output_accuracy: 0.6054 - val_attrition_output_accuracy: 0.8673\n",
            "Epoch 47/100\n",
            "37/37 [==============================] - 0s 2ms/step - loss: 0.7831 - department_output_loss: 0.5930 - attrition_output_loss: 0.1900 - department_output_accuracy: 0.7304 - attrition_output_accuracy: 0.9337 - val_loss: 1.4248 - val_department_output_loss: 0.9159 - val_attrition_output_loss: 0.5089 - val_department_output_accuracy: 0.5952 - val_attrition_output_accuracy: 0.8639\n",
            "Epoch 48/100\n",
            "37/37 [==============================] - 0s 2ms/step - loss: 0.7766 - department_output_loss: 0.5919 - attrition_output_loss: 0.1846 - department_output_accuracy: 0.7432 - attrition_output_accuracy: 0.9328 - val_loss: 1.4328 - val_department_output_loss: 0.9155 - val_attrition_output_loss: 0.5173 - val_department_output_accuracy: 0.5884 - val_attrition_output_accuracy: 0.8605\n",
            "Epoch 49/100\n",
            "37/37 [==============================] - 0s 2ms/step - loss: 0.7665 - department_output_loss: 0.5838 - attrition_output_loss: 0.1827 - department_output_accuracy: 0.7483 - attrition_output_accuracy: 0.9303 - val_loss: 1.4515 - val_department_output_loss: 0.9190 - val_attrition_output_loss: 0.5325 - val_department_output_accuracy: 0.6259 - val_attrition_output_accuracy: 0.8571\n",
            "Epoch 50/100\n",
            "37/37 [==============================] - 0s 2ms/step - loss: 0.7735 - department_output_loss: 0.5876 - attrition_output_loss: 0.1859 - department_output_accuracy: 0.7347 - attrition_output_accuracy: 0.9209 - val_loss: 1.4740 - val_department_output_loss: 0.9275 - val_attrition_output_loss: 0.5465 - val_department_output_accuracy: 0.6122 - val_attrition_output_accuracy: 0.8571\n",
            "Epoch 51/100\n",
            "37/37 [==============================] - 0s 2ms/step - loss: 0.7592 - department_output_loss: 0.5807 - attrition_output_loss: 0.1785 - department_output_accuracy: 0.7466 - attrition_output_accuracy: 0.9337 - val_loss: 1.4743 - val_department_output_loss: 0.9339 - val_attrition_output_loss: 0.5404 - val_department_output_accuracy: 0.5918 - val_attrition_output_accuracy: 0.8605\n",
            "Epoch 52/100\n",
            "37/37 [==============================] - 0s 2ms/step - loss: 0.7443 - department_output_loss: 0.5705 - attrition_output_loss: 0.1737 - department_output_accuracy: 0.7457 - attrition_output_accuracy: 0.9354 - val_loss: 1.4906 - val_department_output_loss: 0.9377 - val_attrition_output_loss: 0.5530 - val_department_output_accuracy: 0.5986 - val_attrition_output_accuracy: 0.8707\n",
            "Epoch 53/100\n",
            "37/37 [==============================] - 0s 2ms/step - loss: 0.7453 - department_output_loss: 0.5687 - attrition_output_loss: 0.1766 - department_output_accuracy: 0.7509 - attrition_output_accuracy: 0.9320 - val_loss: 1.5077 - val_department_output_loss: 0.9518 - val_attrition_output_loss: 0.5559 - val_department_output_accuracy: 0.5952 - val_attrition_output_accuracy: 0.8639\n",
            "Epoch 54/100\n",
            "37/37 [==============================] - 0s 2ms/step - loss: 0.7335 - department_output_loss: 0.5627 - attrition_output_loss: 0.1708 - department_output_accuracy: 0.7534 - attrition_output_accuracy: 0.9354 - val_loss: 1.5022 - val_department_output_loss: 0.9345 - val_attrition_output_loss: 0.5677 - val_department_output_accuracy: 0.5952 - val_attrition_output_accuracy: 0.8639\n",
            "Epoch 55/100\n",
            "37/37 [==============================] - 0s 2ms/step - loss: 0.7245 - department_output_loss: 0.5552 - attrition_output_loss: 0.1692 - department_output_accuracy: 0.7585 - attrition_output_accuracy: 0.9439 - val_loss: 1.5280 - val_department_output_loss: 0.9540 - val_attrition_output_loss: 0.5741 - val_department_output_accuracy: 0.5918 - val_attrition_output_accuracy: 0.8639\n",
            "Epoch 56/100\n",
            "37/37 [==============================] - 0s 2ms/step - loss: 0.7103 - department_output_loss: 0.5508 - attrition_output_loss: 0.1595 - department_output_accuracy: 0.7551 - attrition_output_accuracy: 0.9396 - val_loss: 1.5371 - val_department_output_loss: 0.9591 - val_attrition_output_loss: 0.5780 - val_department_output_accuracy: 0.5918 - val_attrition_output_accuracy: 0.8639\n",
            "Epoch 57/100\n",
            "37/37 [==============================] - 0s 2ms/step - loss: 0.7102 - department_output_loss: 0.5450 - attrition_output_loss: 0.1652 - department_output_accuracy: 0.7645 - attrition_output_accuracy: 0.9396 - val_loss: 1.5421 - val_department_output_loss: 0.9626 - val_attrition_output_loss: 0.5795 - val_department_output_accuracy: 0.5816 - val_attrition_output_accuracy: 0.8639\n",
            "Epoch 58/100\n",
            "37/37 [==============================] - 0s 2ms/step - loss: 0.7015 - department_output_loss: 0.5428 - attrition_output_loss: 0.1586 - department_output_accuracy: 0.7738 - attrition_output_accuracy: 0.9422 - val_loss: 1.5767 - val_department_output_loss: 0.9822 - val_attrition_output_loss: 0.5944 - val_department_output_accuracy: 0.5782 - val_attrition_output_accuracy: 0.8605\n",
            "Epoch 59/100\n",
            "37/37 [==============================] - 0s 2ms/step - loss: 0.6934 - department_output_loss: 0.5362 - attrition_output_loss: 0.1572 - department_output_accuracy: 0.7704 - attrition_output_accuracy: 0.9413 - val_loss: 1.5890 - val_department_output_loss: 0.9906 - val_attrition_output_loss: 0.5984 - val_department_output_accuracy: 0.5782 - val_attrition_output_accuracy: 0.8605\n",
            "Epoch 60/100\n",
            "37/37 [==============================] - 0s 2ms/step - loss: 0.6901 - department_output_loss: 0.5338 - attrition_output_loss: 0.1562 - department_output_accuracy: 0.7730 - attrition_output_accuracy: 0.9405 - val_loss: 1.5749 - val_department_output_loss: 0.9779 - val_attrition_output_loss: 0.5970 - val_department_output_accuracy: 0.5884 - val_attrition_output_accuracy: 0.8673\n",
            "Epoch 61/100\n",
            "37/37 [==============================] - 0s 2ms/step - loss: 0.6830 - department_output_loss: 0.5286 - attrition_output_loss: 0.1544 - department_output_accuracy: 0.7789 - attrition_output_accuracy: 0.9430 - val_loss: 1.6019 - val_department_output_loss: 0.9834 - val_attrition_output_loss: 0.6185 - val_department_output_accuracy: 0.5986 - val_attrition_output_accuracy: 0.8605\n",
            "Epoch 62/100\n",
            "37/37 [==============================] - 0s 2ms/step - loss: 0.6745 - department_output_loss: 0.5277 - attrition_output_loss: 0.1467 - department_output_accuracy: 0.7764 - attrition_output_accuracy: 0.9515 - val_loss: 1.6039 - val_department_output_loss: 0.9869 - val_attrition_output_loss: 0.6170 - val_department_output_accuracy: 0.6020 - val_attrition_output_accuracy: 0.8571\n",
            "Epoch 63/100\n",
            "37/37 [==============================] - 0s 2ms/step - loss: 0.6692 - department_output_loss: 0.5177 - attrition_output_loss: 0.1515 - department_output_accuracy: 0.7781 - attrition_output_accuracy: 0.9439 - val_loss: 1.6489 - val_department_output_loss: 1.0081 - val_attrition_output_loss: 0.6408 - val_department_output_accuracy: 0.5714 - val_attrition_output_accuracy: 0.8537\n",
            "Epoch 64/100\n",
            "37/37 [==============================] - 0s 2ms/step - loss: 0.6604 - department_output_loss: 0.5141 - attrition_output_loss: 0.1463 - department_output_accuracy: 0.7840 - attrition_output_accuracy: 0.9413 - val_loss: 1.6580 - val_department_output_loss: 1.0257 - val_attrition_output_loss: 0.6323 - val_department_output_accuracy: 0.5544 - val_attrition_output_accuracy: 0.8605\n",
            "Epoch 65/100\n",
            "37/37 [==============================] - 0s 2ms/step - loss: 0.6527 - department_output_loss: 0.5100 - attrition_output_loss: 0.1427 - department_output_accuracy: 0.7874 - attrition_output_accuracy: 0.9498 - val_loss: 1.6457 - val_department_output_loss: 1.0065 - val_attrition_output_loss: 0.6392 - val_department_output_accuracy: 0.5952 - val_attrition_output_accuracy: 0.8605\n",
            "Epoch 66/100\n",
            "37/37 [==============================] - 0s 2ms/step - loss: 0.6580 - department_output_loss: 0.5115 - attrition_output_loss: 0.1464 - department_output_accuracy: 0.7866 - attrition_output_accuracy: 0.9430 - val_loss: 1.6738 - val_department_output_loss: 1.0292 - val_attrition_output_loss: 0.6446 - val_department_output_accuracy: 0.5646 - val_attrition_output_accuracy: 0.8639\n",
            "Epoch 67/100\n",
            "37/37 [==============================] - 0s 2ms/step - loss: 0.6369 - department_output_loss: 0.5007 - attrition_output_loss: 0.1362 - department_output_accuracy: 0.7968 - attrition_output_accuracy: 0.9481 - val_loss: 1.7301 - val_department_output_loss: 1.0424 - val_attrition_output_loss: 0.6877 - val_department_output_accuracy: 0.5748 - val_attrition_output_accuracy: 0.8571\n",
            "Epoch 68/100\n",
            "37/37 [==============================] - 0s 2ms/step - loss: 0.6383 - department_output_loss: 0.4982 - attrition_output_loss: 0.1401 - department_output_accuracy: 0.7942 - attrition_output_accuracy: 0.9507 - val_loss: 1.7018 - val_department_output_loss: 1.0302 - val_attrition_output_loss: 0.6716 - val_department_output_accuracy: 0.5816 - val_attrition_output_accuracy: 0.8503\n",
            "Epoch 69/100\n",
            "37/37 [==============================] - 0s 1ms/step - loss: 0.6232 - department_output_loss: 0.4924 - attrition_output_loss: 0.1309 - department_output_accuracy: 0.7891 - attrition_output_accuracy: 0.9558 - val_loss: 1.7653 - val_department_output_loss: 1.0768 - val_attrition_output_loss: 0.6886 - val_department_output_accuracy: 0.5612 - val_attrition_output_accuracy: 0.8571\n",
            "Epoch 70/100\n",
            "37/37 [==============================] - 0s 2ms/step - loss: 0.6174 - department_output_loss: 0.4865 - attrition_output_loss: 0.1309 - department_output_accuracy: 0.8061 - attrition_output_accuracy: 0.9515 - val_loss: 1.7573 - val_department_output_loss: 1.0669 - val_attrition_output_loss: 0.6904 - val_department_output_accuracy: 0.5884 - val_attrition_output_accuracy: 0.8605\n",
            "Epoch 71/100\n",
            "37/37 [==============================] - 0s 2ms/step - loss: 0.6132 - department_output_loss: 0.4840 - attrition_output_loss: 0.1292 - department_output_accuracy: 0.8061 - attrition_output_accuracy: 0.9515 - val_loss: 1.7941 - val_department_output_loss: 1.0892 - val_attrition_output_loss: 0.7048 - val_department_output_accuracy: 0.5510 - val_attrition_output_accuracy: 0.8503\n",
            "Epoch 72/100\n",
            "37/37 [==============================] - 0s 2ms/step - loss: 0.6096 - department_output_loss: 0.4786 - attrition_output_loss: 0.1310 - department_output_accuracy: 0.8087 - attrition_output_accuracy: 0.9490 - val_loss: 1.7622 - val_department_output_loss: 1.0581 - val_attrition_output_loss: 0.7041 - val_department_output_accuracy: 0.5748 - val_attrition_output_accuracy: 0.8469\n",
            "Epoch 73/100\n",
            "37/37 [==============================] - 0s 2ms/step - loss: 0.6049 - department_output_loss: 0.4775 - attrition_output_loss: 0.1275 - department_output_accuracy: 0.8019 - attrition_output_accuracy: 0.9532 - val_loss: 1.8179 - val_department_output_loss: 1.0923 - val_attrition_output_loss: 0.7256 - val_department_output_accuracy: 0.5544 - val_attrition_output_accuracy: 0.8639\n",
            "Epoch 74/100\n",
            "37/37 [==============================] - 0s 2ms/step - loss: 0.5911 - department_output_loss: 0.4695 - attrition_output_loss: 0.1216 - department_output_accuracy: 0.8155 - attrition_output_accuracy: 0.9515 - val_loss: 1.8300 - val_department_output_loss: 1.0976 - val_attrition_output_loss: 0.7324 - val_department_output_accuracy: 0.5578 - val_attrition_output_accuracy: 0.8435\n",
            "Epoch 75/100\n",
            "37/37 [==============================] - 0s 2ms/step - loss: 0.5943 - department_output_loss: 0.4691 - attrition_output_loss: 0.1252 - department_output_accuracy: 0.8010 - attrition_output_accuracy: 0.9541 - val_loss: 1.8571 - val_department_output_loss: 1.1102 - val_attrition_output_loss: 0.7469 - val_department_output_accuracy: 0.5884 - val_attrition_output_accuracy: 0.8639\n",
            "Epoch 76/100\n",
            "37/37 [==============================] - 0s 2ms/step - loss: 0.5841 - department_output_loss: 0.4658 - attrition_output_loss: 0.1183 - department_output_accuracy: 0.8206 - attrition_output_accuracy: 0.9575 - val_loss: 1.8739 - val_department_output_loss: 1.1207 - val_attrition_output_loss: 0.7532 - val_department_output_accuracy: 0.5748 - val_attrition_output_accuracy: 0.8605\n",
            "Epoch 77/100\n",
            "37/37 [==============================] - 0s 2ms/step - loss: 0.5899 - department_output_loss: 0.4656 - attrition_output_loss: 0.1243 - department_output_accuracy: 0.8138 - attrition_output_accuracy: 0.9541 - val_loss: 1.8610 - val_department_output_loss: 1.1154 - val_attrition_output_loss: 0.7456 - val_department_output_accuracy: 0.5578 - val_attrition_output_accuracy: 0.8503\n",
            "Epoch 78/100\n",
            "37/37 [==============================] - 0s 2ms/step - loss: 0.5774 - department_output_loss: 0.4616 - attrition_output_loss: 0.1158 - department_output_accuracy: 0.8129 - attrition_output_accuracy: 0.9549 - val_loss: 1.8710 - val_department_output_loss: 1.1322 - val_attrition_output_loss: 0.7387 - val_department_output_accuracy: 0.5714 - val_attrition_output_accuracy: 0.8469\n",
            "Epoch 79/100\n",
            "37/37 [==============================] - 0s 2ms/step - loss: 0.5712 - department_output_loss: 0.4555 - attrition_output_loss: 0.1158 - department_output_accuracy: 0.8231 - attrition_output_accuracy: 0.9600 - val_loss: 1.8895 - val_department_output_loss: 1.1273 - val_attrition_output_loss: 0.7623 - val_department_output_accuracy: 0.5952 - val_attrition_output_accuracy: 0.8673\n",
            "Epoch 80/100\n",
            "37/37 [==============================] - 0s 1ms/step - loss: 0.5678 - department_output_loss: 0.4537 - attrition_output_loss: 0.1141 - department_output_accuracy: 0.8197 - attrition_output_accuracy: 0.9626 - val_loss: 1.9316 - val_department_output_loss: 1.1582 - val_attrition_output_loss: 0.7734 - val_department_output_accuracy: 0.5646 - val_attrition_output_accuracy: 0.8605\n",
            "Epoch 81/100\n",
            "37/37 [==============================] - 0s 2ms/step - loss: 0.5555 - department_output_loss: 0.4468 - attrition_output_loss: 0.1087 - department_output_accuracy: 0.8257 - attrition_output_accuracy: 0.9634 - val_loss: 1.9400 - val_department_output_loss: 1.1585 - val_attrition_output_loss: 0.7815 - val_department_output_accuracy: 0.5748 - val_attrition_output_accuracy: 0.8571\n",
            "Epoch 82/100\n",
            "37/37 [==============================] - 0s 2ms/step - loss: 0.5632 - department_output_loss: 0.4504 - attrition_output_loss: 0.1128 - department_output_accuracy: 0.8197 - attrition_output_accuracy: 0.9566 - val_loss: 1.9450 - val_department_output_loss: 1.1506 - val_attrition_output_loss: 0.7944 - val_department_output_accuracy: 0.5782 - val_attrition_output_accuracy: 0.8571\n",
            "Epoch 83/100\n",
            "37/37 [==============================] - 0s 2ms/step - loss: 0.5572 - department_output_loss: 0.4392 - attrition_output_loss: 0.1180 - department_output_accuracy: 0.8231 - attrition_output_accuracy: 0.9481 - val_loss: 1.9283 - val_department_output_loss: 1.1291 - val_attrition_output_loss: 0.7992 - val_department_output_accuracy: 0.5884 - val_attrition_output_accuracy: 0.8673\n",
            "Epoch 84/100\n",
            "37/37 [==============================] - 0s 2ms/step - loss: 0.5462 - department_output_loss: 0.4352 - attrition_output_loss: 0.1111 - department_output_accuracy: 0.8240 - attrition_output_accuracy: 0.9583 - val_loss: 2.0083 - val_department_output_loss: 1.1829 - val_attrition_output_loss: 0.8254 - val_department_output_accuracy: 0.5748 - val_attrition_output_accuracy: 0.8639\n",
            "Epoch 85/100\n",
            "37/37 [==============================] - 0s 1ms/step - loss: 0.5358 - department_output_loss: 0.4307 - attrition_output_loss: 0.1051 - department_output_accuracy: 0.8172 - attrition_output_accuracy: 0.9694 - val_loss: 2.0114 - val_department_output_loss: 1.1753 - val_attrition_output_loss: 0.8362 - val_department_output_accuracy: 0.5612 - val_attrition_output_accuracy: 0.8639\n",
            "Epoch 86/100\n",
            "37/37 [==============================] - 0s 3ms/step - loss: 0.5316 - department_output_loss: 0.4245 - attrition_output_loss: 0.1071 - department_output_accuracy: 0.8367 - attrition_output_accuracy: 0.9626 - val_loss: 1.9968 - val_department_output_loss: 1.1839 - val_attrition_output_loss: 0.8129 - val_department_output_accuracy: 0.5680 - val_attrition_output_accuracy: 0.8673\n",
            "Epoch 87/100\n",
            "37/37 [==============================] - 0s 2ms/step - loss: 0.5232 - department_output_loss: 0.4245 - attrition_output_loss: 0.0987 - department_output_accuracy: 0.8240 - attrition_output_accuracy: 0.9685 - val_loss: 2.0414 - val_department_output_loss: 1.1964 - val_attrition_output_loss: 0.8451 - val_department_output_accuracy: 0.5782 - val_attrition_output_accuracy: 0.8673\n",
            "Epoch 88/100\n",
            "37/37 [==============================] - 0s 1ms/step - loss: 0.5192 - department_output_loss: 0.4158 - attrition_output_loss: 0.1034 - department_output_accuracy: 0.8418 - attrition_output_accuracy: 0.9592 - val_loss: 2.0447 - val_department_output_loss: 1.2036 - val_attrition_output_loss: 0.8412 - val_department_output_accuracy: 0.5544 - val_attrition_output_accuracy: 0.8469\n",
            "Epoch 89/100\n",
            "37/37 [==============================] - 0s 2ms/step - loss: 0.5144 - department_output_loss: 0.4170 - attrition_output_loss: 0.0973 - department_output_accuracy: 0.8410 - attrition_output_accuracy: 0.9677 - val_loss: 2.0659 - val_department_output_loss: 1.2249 - val_attrition_output_loss: 0.8410 - val_department_output_accuracy: 0.5884 - val_attrition_output_accuracy: 0.8571\n",
            "Epoch 90/100\n",
            "37/37 [==============================] - 0s 2ms/step - loss: 0.5104 - department_output_loss: 0.4098 - attrition_output_loss: 0.1006 - department_output_accuracy: 0.8435 - attrition_output_accuracy: 0.9617 - val_loss: 2.1349 - val_department_output_loss: 1.2397 - val_attrition_output_loss: 0.8953 - val_department_output_accuracy: 0.5816 - val_attrition_output_accuracy: 0.8707\n",
            "Epoch 91/100\n",
            "37/37 [==============================] - 0s 3ms/step - loss: 0.5166 - department_output_loss: 0.4154 - attrition_output_loss: 0.1012 - department_output_accuracy: 0.8376 - attrition_output_accuracy: 0.9600 - val_loss: 2.1247 - val_department_output_loss: 1.2520 - val_attrition_output_loss: 0.8727 - val_department_output_accuracy: 0.5748 - val_attrition_output_accuracy: 0.8673\n",
            "Epoch 92/100\n",
            "37/37 [==============================] - 0s 2ms/step - loss: 0.4982 - department_output_loss: 0.4053 - attrition_output_loss: 0.0929 - department_output_accuracy: 0.8401 - attrition_output_accuracy: 0.9694 - val_loss: 2.0965 - val_department_output_loss: 1.2138 - val_attrition_output_loss: 0.8827 - val_department_output_accuracy: 0.5646 - val_attrition_output_accuracy: 0.8707\n",
            "Epoch 93/100\n",
            "37/37 [==============================] - 0s 2ms/step - loss: 0.4926 - department_output_loss: 0.3983 - attrition_output_loss: 0.0943 - department_output_accuracy: 0.8452 - attrition_output_accuracy: 0.9651 - val_loss: 2.1070 - val_department_output_loss: 1.2462 - val_attrition_output_loss: 0.8609 - val_department_output_accuracy: 0.5646 - val_attrition_output_accuracy: 0.8503\n",
            "Epoch 94/100\n",
            "37/37 [==============================] - 0s 2ms/step - loss: 0.4919 - department_output_loss: 0.4024 - attrition_output_loss: 0.0894 - department_output_accuracy: 0.8469 - attrition_output_accuracy: 0.9745 - val_loss: 2.1778 - val_department_output_loss: 1.2625 - val_attrition_output_loss: 0.9153 - val_department_output_accuracy: 0.5612 - val_attrition_output_accuracy: 0.8605\n",
            "Epoch 95/100\n",
            "37/37 [==============================] - 0s 2ms/step - loss: 0.4989 - department_output_loss: 0.3999 - attrition_output_loss: 0.0990 - department_output_accuracy: 0.8503 - attrition_output_accuracy: 0.9643 - val_loss: 2.1663 - val_department_output_loss: 1.2689 - val_attrition_output_loss: 0.8975 - val_department_output_accuracy: 0.5578 - val_attrition_output_accuracy: 0.8639\n",
            "Epoch 96/100\n",
            "37/37 [==============================] - 0s 2ms/step - loss: 0.4892 - department_output_loss: 0.3950 - attrition_output_loss: 0.0942 - department_output_accuracy: 0.8376 - attrition_output_accuracy: 0.9702 - val_loss: 2.2064 - val_department_output_loss: 1.2908 - val_attrition_output_loss: 0.9156 - val_department_output_accuracy: 0.5442 - val_attrition_output_accuracy: 0.8639\n",
            "Epoch 97/100\n",
            "37/37 [==============================] - 0s 1ms/step - loss: 0.4905 - department_output_loss: 0.4043 - attrition_output_loss: 0.0862 - department_output_accuracy: 0.8342 - attrition_output_accuracy: 0.9694 - val_loss: 2.2053 - val_department_output_loss: 1.2828 - val_attrition_output_loss: 0.9225 - val_department_output_accuracy: 0.5680 - val_attrition_output_accuracy: 0.8469\n",
            "Epoch 98/100\n",
            "37/37 [==============================] - 0s 2ms/step - loss: 0.4859 - department_output_loss: 0.3965 - attrition_output_loss: 0.0894 - department_output_accuracy: 0.8435 - attrition_output_accuracy: 0.9685 - val_loss: 2.2134 - val_department_output_loss: 1.2806 - val_attrition_output_loss: 0.9327 - val_department_output_accuracy: 0.5748 - val_attrition_output_accuracy: 0.8469\n",
            "Epoch 99/100\n",
            "37/37 [==============================] - 0s 2ms/step - loss: 0.4667 - department_output_loss: 0.3806 - attrition_output_loss: 0.0861 - department_output_accuracy: 0.8554 - attrition_output_accuracy: 0.9719 - val_loss: 2.2543 - val_department_output_loss: 1.3164 - val_attrition_output_loss: 0.9380 - val_department_output_accuracy: 0.5442 - val_attrition_output_accuracy: 0.8469\n",
            "Epoch 100/100\n",
            "37/37 [==============================] - 0s 2ms/step - loss: 0.4643 - department_output_loss: 0.3804 - attrition_output_loss: 0.0838 - department_output_accuracy: 0.8588 - attrition_output_accuracy: 0.9736 - val_loss: 2.2873 - val_department_output_loss: 1.3074 - val_attrition_output_loss: 0.9799 - val_department_output_accuracy: 0.5680 - val_attrition_output_accuracy: 0.8537\n"
          ]
        }
      ],
      "source": [
        "\n",
        "# Train the model\n",
        "history = model.fit(\n",
        "    X_train_scaled, \n",
        "    {'department_output': y_train_encoded, 'attrition_output': y_train_attrition_encoded},\n",
        "    epochs=100,\n",
        "    batch_size=32,\n",
        "    validation_data=(X_test_scaled, {'department_output': y_test_encoded, 'attrition_output': y_test_attrition_encoded}),\n",
        "    verbose=1\n",
        ")\n"
      ]
    },
    {
      "cell_type": "code",
      "execution_count": 25,
      "metadata": {
        "colab": {
          "base_uri": "https://localhost:8080/"
        },
        "id": "VsMoaQlgGc3U",
        "outputId": "1bd4e601-e964-4abc-ad83-aeecf6b696be"
      },
      "outputs": [
        {
          "name": "stdout",
          "output_type": "stream",
          "text": [
            "10/10 [==============================] - 0s 1ms/step - loss: 2.2873 - department_output_loss: 1.3074 - attrition_output_loss: 0.9799 - department_output_accuracy: 0.5680 - attrition_output_accuracy: 0.8537\n",
            "[2.2872769832611084, 1.3073989152908325, 0.9798780083656311, 0.5680271983146667, 0.853741466999054]\n",
            "Test Loss: 2.2872769832611084\n",
            "Test Department Output Loss: 1.3073989152908325\n",
            "Test Attrition Output Loss: 0.9798780083656311\n"
          ]
        }
      ],
      "source": [
        "# Evaluate the model with the testing data\n",
        "evaluation = model.evaluate(\n",
        "    X_test_scaled,\n",
        "    {'department_output': y_test_encoded, 'attrition_output': y_test_attrition_encoded},\n",
        "    verbose=1\n",
        ")\n",
        "\n",
        "# Print the evaluation list to understand its structure\n",
        "print(evaluation)\n",
        "\n",
        "# Extract the specific metrics\n",
        "test_loss = evaluation[0]\n",
        "department_output_loss = evaluation[1]\n",
        "attrition_output_loss = evaluation[2]\n",
        "\n",
        "print(f\"Test Loss: {test_loss}\")\n",
        "print(f\"Test Department Output Loss: {department_output_loss}\")\n",
        "print(f\"Test Attrition Output Loss: {attrition_output_loss}\")\n"
      ]
    },
    {
      "cell_type": "code",
      "execution_count": 26,
      "metadata": {
        "colab": {
          "base_uri": "https://localhost:8080/"
        },
        "id": "ZlCtlHi0Vt54",
        "outputId": "bc21ef3e-80c2-4b38-9c29-79515bc23dec"
      },
      "outputs": [
        {
          "name": "stdout",
          "output_type": "stream",
          "text": [
            "10/10 [==============================] - 0s 3ms/step\n",
            "10/10 [==============================] - 0s 867us/step\n",
            "Test Department Output Accuracy: 0.5680272108843537\n",
            "Test Attrition Output Accuracy: 0.8537414965986394\n"
          ]
        }
      ],
      "source": [
        "# Print the accuracy for both department and attrition\n",
        "\n",
        "# Calculate accuracy for the department output\n",
        "department_pred = model.predict(X_test_scaled)[0]\n",
        "department_accuracy = np.mean(np.argmax(department_pred, axis=1) == np.argmax(y_test_encoded, axis=1))\n",
        "\n",
        "# Calculate accuracy for the attrition output\n",
        "attrition_pred = model.predict(X_test_scaled)[1]\n",
        "attrition_accuracy = np.mean(np.argmax(attrition_pred, axis=1) == np.argmax(y_test_attrition_encoded, axis=1))\n",
        "\n",
        "print(f\"Test Department Output Accuracy: {department_accuracy}\")\n",
        "print(f\"Test Attrition Output Accuracy: {attrition_accuracy}\")"
      ]
    },
    {
      "cell_type": "markdown",
      "metadata": {
        "id": "eGSyfsZfWOQM"
      },
      "source": [
        "# Summary\n",
        "\n",
        "In the provided space below, briefly answer the following questions.\n",
        "\n",
        "1. Is accuracy the best metric to use on this data? Why or why not?\n",
        "\n",
        "2. What activation functions did you choose for your output layers, and why?\n",
        "\n",
        "3. Can you name a few ways that this model might be improved?"
      ]
    },
    {
      "cell_type": "markdown",
      "metadata": {
        "id": "pi9SLpFnWvbF"
      },
      "source": [
        "\n",
        "1. **Is accuracy the best metric to use on this data? Why or why not?**\n",
        "   - **No.** Accuracy is not the best metric because it does not account for class imbalances. Precision, recall, and F1-score can provide more insight into the model's performance, especially for minority classes. These metrics consider the true positive, false positive, and false negative rates, offering a more comprehensive view of the model's effectiveness.\n",
        "\n",
        "2. **What activation functions did you choose for your output layers, and why?**\n",
        "   - **Softmax.** For both `department_output` and `attrition_output`. Softmax is used for multi-class classification in the `department_output` to ensure the outputs sum to 1 and represent probabilities for each class. For `attrition_output`, although it’s a binary classification, softmax is used to get probabilities of each class (Yes/No). This allows us to interpret the outputs as the likelihood of each class, facilitating better decision-making based on predicted probabilities.\n",
        "\n",
        "3. **Can you name a few ways that this model might be improved?**\n",
        "   - **More Data:** Increase the amount of training data to improve model generalization. Collecting more employee data over time or from other sources can help the model learn better.\n",
        "   - **Feature Engineering:** Add or modify features to provide better input data. For example, create new features like the ratio of total working years to years at the company, or encode tenure in months rather than years.\n",
        "   - **Hyperparameter Tuning:** Adjust learning rates, batch sizes, and the number of neurons/layers. Try different values for these parameters to find the best combination that improves model performance.\n",
        "   - **Regularization:** Implement dropout or L2 regularization to prevent overfitting. Dropout randomly ignores some neurons during training to make the model more robust, while L2 regularization adds a penalty for large weights.\n",
        "   - **Different Architectures:** Experiment with different neural network architectures or other machine learning models. For example, try using convolutional neural networks (CNNs) for feature extraction or ensemble methods like random forests and gradient boosting for improved accuracy."
      ]
    },
    {
      "cell_type": "markdown",
      "metadata": {},
      "source": []
    }
  ],
  "metadata": {
    "colab": {
      "provenance": []
    },
    "kernelspec": {
      "display_name": "Python 3",
      "language": "python",
      "name": "python3"
    },
    "language_info": {
      "codemirror_mode": {
        "name": "ipython",
        "version": 3
      },
      "file_extension": ".py",
      "mimetype": "text/x-python",
      "name": "python",
      "nbconvert_exporter": "python",
      "pygments_lexer": "ipython3",
      "version": "3.10.13"
    },
    "vscode": {
      "interpreter": {
        "hash": "31f2aee4e71d21fbe5cf8b01ff0e069b9275f58929596ceb00d14d90e3e16cd6"
      }
    }
  },
  "nbformat": 4,
  "nbformat_minor": 0
}
